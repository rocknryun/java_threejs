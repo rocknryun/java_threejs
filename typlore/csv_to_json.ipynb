{
 "cells": [
  {
   "cell_type": "code",
   "execution_count": 8,
   "metadata": {},
   "outputs": [
    {
     "data": {
      "text/html": [
       "<div>\n",
       "<style scoped>\n",
       "    .dataframe tbody tr th:only-of-type {\n",
       "        vertical-align: middle;\n",
       "    }\n",
       "\n",
       "    .dataframe tbody tr th {\n",
       "        vertical-align: top;\n",
       "    }\n",
       "\n",
       "    .dataframe thead th {\n",
       "        text-align: right;\n",
       "    }\n",
       "</style>\n",
       "<table border=\"1\" class=\"dataframe\">\n",
       "  <thead>\n",
       "    <tr style=\"text-align: right;\">\n",
       "      <th></th>\n",
       "      <th>x</th>\n",
       "      <th>y</th>\n",
       "      <th>z</th>\n",
       "    </tr>\n",
       "  </thead>\n",
       "  <tbody>\n",
       "    <tr>\n",
       "      <th>NaN</th>\n",
       "      <td>-0.807134</td>\n",
       "      <td>-0.701210</td>\n",
       "      <td>-1.901180</td>\n",
       "    </tr>\n",
       "    <tr>\n",
       "      <th>NaN</th>\n",
       "      <td>-0.334436</td>\n",
       "      <td>-1.188520</td>\n",
       "      <td>-0.999750</td>\n",
       "    </tr>\n",
       "    <tr>\n",
       "      <th>NaN</th>\n",
       "      <td>-1.014100</td>\n",
       "      <td>-0.661931</td>\n",
       "      <td>-0.118045</td>\n",
       "    </tr>\n",
       "    <tr>\n",
       "      <th>NaN</th>\n",
       "      <td>-1.174250</td>\n",
       "      <td>-0.598529</td>\n",
       "      <td>-0.059036</td>\n",
       "    </tr>\n",
       "    <tr>\n",
       "      <th>NaN</th>\n",
       "      <td>0.287469</td>\n",
       "      <td>1.009580</td>\n",
       "      <td>-0.143041</td>\n",
       "    </tr>\n",
       "  </tbody>\n",
       "</table>\n",
       "</div>"
      ],
      "text/plain": [
       "            x         y         z\n",
       "NaN -0.807134 -0.701210 -1.901180\n",
       "NaN -0.334436 -1.188520 -0.999750\n",
       "NaN -1.014100 -0.661931 -0.118045\n",
       "NaN -1.174250 -0.598529 -0.059036\n",
       "NaN  0.287469  1.009580 -0.143041"
      ]
     },
     "execution_count": 8,
     "metadata": {},
     "output_type": "execute_result"
    }
   ],
   "source": [
    "import json\n",
    "\n",
    "import pandas as pd\n",
    "\n",
    "filename = \"particle_axis.xlsx\"\n",
    "\n",
    "df = pd.read_excel(filename, header=None, names=[\"x\", \"y\", \"z\"])\n",
    "df.head()"
   ]
  },
  {
   "cell_type": "code",
   "execution_count": 9,
   "metadata": {},
   "outputs": [],
   "source": [
    "result = {\"point\": []}\n",
    "\n",
    "for x, y, z in zip(df[\"x\"], df[\"y\"], df[\"z\"]):\n",
    "    result[\"point\"].append([x, y, z])\n",
    "\n",
    "with open(\"particle_axis.json\", \"w\") as f:\n",
    "    json.dump(result, f, indent=4)\n"
   ]
  }
 ],
 "metadata": {
  "kernelspec": {
   "display_name": "Python 3.10.6 64-bit",
   "language": "python",
   "name": "python3"
  },
  "language_info": {
   "codemirror_mode": {
    "name": "ipython",
    "version": 3
   },
   "file_extension": ".py",
   "mimetype": "text/x-python",
   "name": "python",
   "nbconvert_exporter": "python",
   "pygments_lexer": "ipython3",
   "version": "3.10.6"
  },
  "orig_nbformat": 4,
  "vscode": {
   "interpreter": {
    "hash": "c763eee1c439d09faa57a7ee1149df887d6e548012aca7ce060fb4e4b99d18ff"
   }
  }
 },
 "nbformat": 4,
 "nbformat_minor": 2
}
