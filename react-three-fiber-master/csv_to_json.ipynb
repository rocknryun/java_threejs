{
 "cells": [
  {
   "cell_type": "code",
   "execution_count": 1,
   "metadata": {},
   "outputs": [
    {
     "data": {
      "text/html": [
       "<div>\n",
       "<style scoped>\n",
       "    .dataframe tbody tr th:only-of-type {\n",
       "        vertical-align: middle;\n",
       "    }\n",
       "\n",
       "    .dataframe tbody tr th {\n",
       "        vertical-align: top;\n",
       "    }\n",
       "\n",
       "    .dataframe thead th {\n",
       "        text-align: right;\n",
       "    }\n",
       "</style>\n",
       "<table border=\"1\" class=\"dataframe\">\n",
       "  <thead>\n",
       "    <tr style=\"text-align: right;\">\n",
       "      <th></th>\n",
       "      <th>x</th>\n",
       "      <th>y</th>\n",
       "      <th>z</th>\n",
       "    </tr>\n",
       "  </thead>\n",
       "  <tbody>\n",
       "    <tr>\n",
       "      <th>NaN</th>\n",
       "      <td>-9.76675</td>\n",
       "      <td>11.84380</td>\n",
       "      <td>3.307240</td>\n",
       "    </tr>\n",
       "    <tr>\n",
       "      <th>NaN</th>\n",
       "      <td>-9.47586</td>\n",
       "      <td>11.68870</td>\n",
       "      <td>3.083520</td>\n",
       "    </tr>\n",
       "    <tr>\n",
       "      <th>NaN</th>\n",
       "      <td>10.09630</td>\n",
       "      <td>8.61039</td>\n",
       "      <td>-0.277518</td>\n",
       "    </tr>\n",
       "    <tr>\n",
       "      <th>NaN</th>\n",
       "      <td>-9.68146</td>\n",
       "      <td>11.72110</td>\n",
       "      <td>3.673110</td>\n",
       "    </tr>\n",
       "    <tr>\n",
       "      <th>NaN</th>\n",
       "      <td>-9.36359</td>\n",
       "      <td>11.50450</td>\n",
       "      <td>3.430810</td>\n",
       "    </tr>\n",
       "  </tbody>\n",
       "</table>\n",
       "</div>"
      ],
      "text/plain": [
       "            x         y         z\n",
       "NaN  -9.76675  11.84380  3.307240\n",
       "NaN  -9.47586  11.68870  3.083520\n",
       "NaN  10.09630   8.61039 -0.277518\n",
       "NaN  -9.68146  11.72110  3.673110\n",
       "NaN  -9.36359  11.50450  3.430810"
      ]
     },
     "execution_count": 1,
     "metadata": {},
     "output_type": "execute_result"
    }
   ],
   "source": [
    "import json\n",
    "\n",
    "import pandas as pd\n",
    "\n",
    "filename = \"particle_axis.xlsx\"\n",
    "\n",
    "df = pd.read_excel(filename, header=None, names=[\"x\", \"y\", \"z\"])\n",
    "df.head()"
   ]
  },
  {
   "cell_type": "code",
   "execution_count": 7,
   "metadata": {},
   "outputs": [],
   "source": [
    "result = {\"point\": []}\n",
    "\n",
    "for x, y, z in zip(df[\"x\"], df[\"y\"], df[\"z\"]):\n",
    "    result[\"point\"].append([x, y, z])\n",
    "\n",
    "with open(\"particle_axis.json\", \"w\") as f:\n",
    "    json.dump(result, f, indent=4)\n"
   ]
  }
 ],
 "metadata": {
  "kernelspec": {
   "display_name": "Python 3.9.6 64-bit",
   "language": "python",
   "name": "python3"
  },
  "language_info": {
   "codemirror_mode": {
    "name": "ipython",
    "version": 3
   },
   "file_extension": ".py",
   "mimetype": "text/x-python",
   "name": "python",
   "nbconvert_exporter": "python",
   "pygments_lexer": "ipython3",
   "version": "3.9.6"
  },
  "orig_nbformat": 4,
  "vscode": {
   "interpreter": {
    "hash": "aee8b7b246df8f9039afb4144a1f6fd8d2ca17a180786b69acc140d282b71a49"
   }
  }
 },
 "nbformat": 4,
 "nbformat_minor": 2
}
